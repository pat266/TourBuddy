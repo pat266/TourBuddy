{
  "cells": [
    {
      "cell_type": "code",
      "execution_count": 1,
      "id": "uZR3iGJJtdDE",
      "metadata": {
        "id": "uZR3iGJJtdDE",
        "colab": {
          "base_uri": "https://localhost:8080/"
        },
        "outputId": "d4764c49-822f-40a0-8dbe-76c10ef84453"
      },
      "outputs": [
        {
          "output_type": "stream",
          "name": "stdout",
          "text": [
            "\u001b[2K     \u001b[90m━━━━━━━━━━━━━━━━━━━━━━━━━━━━━━━━━━━━━━━━\u001b[0m \u001b[32m2.0/2.0 MB\u001b[0m \u001b[31m19.3 MB/s\u001b[0m eta \u001b[36m0:00:00\u001b[0m\n",
            "\u001b[2K     \u001b[90m━━━━━━━━━━━━━━━━━━━━━━━━━━━━━━━━━━━━━━━━\u001b[0m \u001b[32m220.3/220.3 kB\u001b[0m \u001b[31m23.6 MB/s\u001b[0m eta \u001b[36m0:00:00\u001b[0m\n",
            "\u001b[2K     \u001b[90m━━━━━━━━━━━━━━━━━━━━━━━━━━━━━━━━━━━━━━━━\u001b[0m \u001b[32m45.3/45.3 kB\u001b[0m \u001b[31m5.6 MB/s\u001b[0m eta \u001b[36m0:00:00\u001b[0m\n",
            "\u001b[2K     \u001b[90m━━━━━━━━━━━━━━━━━━━━━━━━━━━━━━━━━━━━━━━━\u001b[0m \u001b[32m75.0/75.0 kB\u001b[0m \u001b[31m6.8 MB/s\u001b[0m eta \u001b[36m0:00:00\u001b[0m\n",
            "\u001b[2K     \u001b[90m━━━━━━━━━━━━━━━━━━━━━━━━━━━━━━━━━━━━━━━━\u001b[0m \u001b[32m49.4/49.4 kB\u001b[0m \u001b[31m4.6 MB/s\u001b[0m eta \u001b[36m0:00:00\u001b[0m\n",
            "\u001b[2K     \u001b[90m━━━━━━━━━━━━━━━━━━━━━━━━━━━━━━━━━━━━━━━━\u001b[0m \u001b[32m76.9/76.9 kB\u001b[0m \u001b[31m8.5 MB/s\u001b[0m eta \u001b[36m0:00:00\u001b[0m\n",
            "\u001b[2K     \u001b[90m━━━━━━━━━━━━━━━━━━━━━━━━━━━━━━━━━━━━━━━━\u001b[0m \u001b[32m58.3/58.3 kB\u001b[0m \u001b[31m3.5 MB/s\u001b[0m eta \u001b[36m0:00:00\u001b[0m\n",
            "\u001b[?25h\u001b[31mERROR: pip's dependency resolver does not currently take into account all the packages that are installed. This behaviour is the source of the following dependency conflicts.\n",
            "llmx 0.0.15a0 requires cohere, which is not installed.\n",
            "llmx 0.0.15a0 requires tiktoken, which is not installed.\u001b[0m\u001b[31m\n",
            "\u001b[2K     \u001b[90m━━━━━━━━━━━━━━━━━━━━━━━━━━━━━━━━━━━━━━━━\u001b[0m \u001b[32m57.5/57.5 kB\u001b[0m \u001b[31m2.7 MB/s\u001b[0m eta \u001b[36m0:00:00\u001b[0m\n",
            "\u001b[2K     \u001b[90m━━━━━━━━━━━━━━━━━━━━━━━━━━━━━━━━━━━━━━━━\u001b[0m \u001b[32m3.0/3.0 MB\u001b[0m \u001b[31m37.0 MB/s\u001b[0m eta \u001b[36m0:00:00\u001b[0m\n",
            "\u001b[?25hCollecting python-dotenv\n",
            "  Downloading python_dotenv-1.0.0-py3-none-any.whl (19 kB)\n",
            "Installing collected packages: python-dotenv\n",
            "Successfully installed python-dotenv-1.0.0\n"
          ]
        }
      ],
      "source": [
        "!pip -q install langchain==0.0.333 openai==1.2.2\n",
        "!pip -q install duckduckgo-search\n",
        "!pip install python-dotenv"
      ]
    },
    {
      "cell_type": "markdown",
      "id": "wPdWz1IdxyBR",
      "metadata": {
        "id": "wPdWz1IdxyBR"
      },
      "source": [
        "Setting up some keys"
      ]
    },
    {
      "cell_type": "code",
      "source": [
        "!pip show langchain"
      ],
      "metadata": {
        "colab": {
          "base_uri": "https://localhost:8080/"
        },
        "id": "0k_oRniCLjpN",
        "outputId": "8a43322b-5bde-4dbd-e130-5c7c1ceb1aea"
      },
      "id": "0k_oRniCLjpN",
      "execution_count": 2,
      "outputs": [
        {
          "output_type": "stream",
          "name": "stdout",
          "text": [
            "Name: langchain\n",
            "Version: 0.0.333\n",
            "Summary: Building applications with LLMs through composability\n",
            "Home-page: https://github.com/langchain-ai/langchain\n",
            "Author: \n",
            "Author-email: \n",
            "License: MIT\n",
            "Location: /usr/local/lib/python3.10/dist-packages\n",
            "Requires: aiohttp, anyio, async-timeout, dataclasses-json, jsonpatch, langsmith, numpy, pydantic, PyYAML, requests, SQLAlchemy, tenacity\n",
            "Required-by: \n"
          ]
        }
      ]
    },
    {
      "cell_type": "markdown",
      "id": "1571b632",
      "metadata": {
        "id": "1571b632"
      },
      "source": [
        "\n",
        "# Custom Tools & Agents 🤖"
      ]
    },
    {
      "cell_type": "code",
      "execution_count": 3,
      "id": "c02c4fa2",
      "metadata": {
        "id": "c02c4fa2",
        "colab": {
          "base_uri": "https://localhost:8080/"
        },
        "outputId": "0e578c1c-67e7-44b7-e7ee-dfefb545562e"
      },
      "outputs": [
        {
          "output_type": "stream",
          "name": "stdout",
          "text": [
            "API key retrieved successfully.\n"
          ]
        }
      ],
      "source": [
        "import os\n",
        "from dotenv import load_dotenv\n",
        "\n",
        "# Load environment variables from .env file\n",
        "load_dotenv('.env')\n",
        "\n",
        "# Retrieve the API key\n",
        "openai_api_key = os.getenv('OPENAI_API_KEY')\n",
        "\n",
        "if openai_api_key is not None and len(openai_api_key) != 0:\n",
        "    print(\"API key retrieved successfully.\")\n",
        "else:\n",
        "    print(\"API key not found.\")"
      ]
    },
    {
      "cell_type": "code",
      "execution_count": 19,
      "id": "73bfcbb6",
      "metadata": {
        "id": "73bfcbb6"
      },
      "outputs": [],
      "source": [
        "# from langchain import OpenAI\n",
        "from langchain.chat_models import ChatOpenAI\n",
        "from langchain.chains.conversation.memory import ConversationBufferWindowMemory"
      ]
    },
    {
      "cell_type": "code",
      "source": [
        "# Set up the turbo LLM\n",
        "turbo_llm = ChatOpenAI(temperature=0, model=\"gpt-3.5-turbo-1106\") # 16k tokens sent, 4k tokens received"
      ],
      "metadata": {
        "id": "Lald4gCltB4V"
      },
      "id": "Lald4gCltB4V",
      "execution_count": 5,
      "outputs": []
    },
    {
      "cell_type": "markdown",
      "source": [
        "## Standard Tool"
      ],
      "metadata": {
        "id": "7DKXFGHhxNcK"
      },
      "id": "7DKXFGHhxNcK"
    },
    {
      "cell_type": "code",
      "source": [
        "from langchain.tools import DuckDuckGoSearchRun, BaseTool\n",
        "from langchain.agents import initialize_agent, AgentType, Tool, AgentExecutor\n",
        "from langchain.document_loaders import RecursiveUrlLoader\n",
        "from langchain.chains import LLMMathChain\n",
        "from bs4 import BeautifulSoup as bs\n",
        "import re\n",
        "import requests\n",
        "\n",
        "search = DuckDuckGoSearchRun()\n",
        "llm_math_chain = LLMMathChain.from_llm(llm=turbo_llm, verbose=True)"
      ],
      "metadata": {
        "id": "kOVncXZtxT_0"
      },
      "id": "kOVncXZtxT_0",
      "execution_count": 6,
      "outputs": []
    },
    {
      "cell_type": "code",
      "source": [
        "# class WebPageTool(BaseTool):\n",
        "#     name = \"Get Webpage\"\n",
        "#     description = \"Useful for when you need to get the content from a specific webpage\"\n",
        "\n",
        "#     def _run(self, webpage: str):\n",
        "#         response = requests.get(webpage)\n",
        "#         html_content = response.text\n",
        "\n",
        "#         def strip_html_tags(html_content):\n",
        "#             soup = bs(html_content, \"html.parser\")\n",
        "#             stripped_text = soup.get_text()\n",
        "#             return stripped_text\n",
        "\n",
        "#         stripped_content = strip_html_tags(html_content)\n",
        "#         if len(stripped_content) > 4000:\n",
        "#             stripped_content = stripped_content[:4000]\n",
        "#         return stripped_content\n",
        "\n",
        "#     def _arun(self, webpage: str):\n",
        "#         raise NotImplementedError(\"This tool does not support async\")\n",
        "\n",
        "# page_getter = WebPageTool()\n",
        "\n",
        "def extract_text_and_limit_tokens(html, token_limit=4097):\n",
        "    # Extract text with BeautifulSoup\n",
        "    text = bs(html, \"html.parser\").text\n",
        "    # Normalize whitespace\n",
        "    text = re.sub(r'\\s+', ' ', text.strip())\n",
        "\n",
        "    # Approximate tokenization by splitting on spaces\n",
        "    tokens = text.split(' ')\n",
        "\n",
        "    # Limit the number of tokens and join back into a string\n",
        "    limited_text = ' '.join(tokens[:token_limit])\n",
        "    return limited_text\n",
        "\n",
        "def crawl_site(url):\n",
        "    loader = RecursiveUrlLoader(\n",
        "        url=url,\n",
        "        max_depth=2,\n",
        "        extractor=lambda x: extract_text_and_limit_tokens(x, 6000)\n",
        "    )\n",
        "    docs = loader.load()\n",
        "    return docs"
      ],
      "metadata": {
        "id": "ZEKFn9UDEmMS"
      },
      "id": "ZEKFn9UDEmMS",
      "execution_count": 7,
      "outputs": []
    },
    {
      "cell_type": "code",
      "source": [
        "tools = [\n",
        "    Tool(\n",
        "        name = \"search\",\n",
        "        func=search.run,\n",
        "        description=\"Search the internet to find helpful websites.\"\n",
        "    ),\n",
        "    Tool(\n",
        "        name=\"Calculator\",\n",
        "        func=llm_math_chain.run,\n",
        "        description=\"Useful for when you need to answer questions about math\",\n",
        "    ),\n",
        "    Tool(\n",
        "        name=\"site_crawler\",\n",
        "        func=crawl_site,\n",
        "        description=\"Crawl a website up to depth 2.\"\n",
        "    ),\n",
        "]\n",
        "\n",
        "mrkl = initialize_agent(\n",
        "    agent=AgentType.OPENAI_FUNCTIONS,\n",
        "    tools=tools,\n",
        "    llm=turbo_llm,\n",
        "    verbose=True,\n",
        "    max_iterations=3,\n",
        "    early_stopping_method='generate',\n",
        ")"
      ],
      "metadata": {
        "id": "9h7l5_UrE6b-"
      },
      "id": "9h7l5_UrE6b-",
      "execution_count": 8,
      "outputs": []
    },
    {
      "cell_type": "code",
      "source": [
        "fixed_prompt = '''You are a helpful AI assistant.''' # can change this later\n",
        "mrkl.agent.prompt.messages[0].content = fixed_prompt\n",
        "mrkl.agent.prompt.messages[0].content"
      ],
      "metadata": {
        "colab": {
          "base_uri": "https://localhost:8080/",
          "height": 36
        },
        "id": "4Umihm5HPA5l",
        "outputId": "dd504a5d-cc3c-4d42-bb94-387a888c2dee"
      },
      "id": "4Umihm5HPA5l",
      "execution_count": 9,
      "outputs": [
        {
          "output_type": "execute_result",
          "data": {
            "text/plain": [
              "'You are a helpful AI assistant.'"
            ],
            "application/vnd.google.colaboratory.intrinsic+json": {
              "type": "string"
            }
          },
          "metadata": {},
          "execution_count": 9
        }
      ]
    },
    {
      "cell_type": "code",
      "source": [
        "location = \"Maple Street Guitars\"\n",
        "# result = mrkl.run(f\"Search the internet about {location} and crawl at most 5 websites to find the necessary information about the price and what people usually do or order in there.\")"
      ],
      "metadata": {
        "id": "q6VHBocdq6BK"
      },
      "id": "q6VHBocdq6BK",
      "execution_count": 10,
      "outputs": []
    },
    {
      "cell_type": "code",
      "source": [
        "# print(result)"
      ],
      "metadata": {
        "id": "Huj1p9wLQujn"
      },
      "id": "Huj1p9wLQujn",
      "execution_count": null,
      "outputs": []
    },
    {
      "cell_type": "code",
      "source": [
        "# result"
      ],
      "metadata": {
        "id": "8JbZFVWx0pmG"
      },
      "id": "8JbZFVWx0pmG",
      "execution_count": null,
      "outputs": []
    },
    {
      "cell_type": "markdown",
      "source": [
        "# Searching maps"
      ],
      "metadata": {
        "id": "xZ1z5VckY637"
      },
      "id": "xZ1z5VckY637"
    },
    {
      "cell_type": "code",
      "source": [
        "from duckduckgo_search import DDGS\n",
        "\n",
        "ddgs = DDGS()\n",
        "\n",
        "# result = list(ddgs.maps('good restaurants around Atlanta, GA', max_results=50))"
      ],
      "metadata": {
        "id": "tGsKPLaSUuXq"
      },
      "id": "tGsKPLaSUuXq",
      "execution_count": 11,
      "outputs": []
    },
    {
      "cell_type": "markdown",
      "source": [
        "## List of recommended places"
      ],
      "metadata": {
        "id": "dNfBEvdBd8GS"
      },
      "id": "dNfBEvdBd8GS"
    },
    {
      "cell_type": "code",
      "source": [
        "# List of keys to keep\n",
        "keys_to_keep = ['title', 'address', 'latitude', 'longitude', 'phone']\n",
        "# List of user preferences\n",
        "preferences_list = ['sports', 'art and culture', 'museum and history', 'food and dining', 'nature and outdoors', 'music', 'technology', 'shopping', 'movies and entertainment']\n",
        "# List of recommended places based on the user preferences\n",
        "recommended_places_list = []\n",
        "for preference in preferences_list:\n",
        "    for original_dict in ddgs.maps(f\"places related to {preference}\", latitude=\"33.771030\", longitude= \"-84.391090\", radius=10, max_results=30):\n",
        "        recommended_places_list.append({k: original_dict[k] for k in keys_to_keep if k in original_dict})\n",
        "recommended_places_list"
      ],
      "metadata": {
        "colab": {
          "base_uri": "https://localhost:8080/"
        },
        "id": "q45MdjUwtGv5",
        "outputId": "81eb599d-d35c-411c-d442-4c3cd2bc884e"
      },
      "id": "q45MdjUwtGv5",
      "execution_count": 12,
      "outputs": [
        {
          "output_type": "stream",
          "name": "stdout",
          "text": [
            "\n",
            "The topic is:  sports\n",
            "\n",
            "The topic is:  art and culture\n",
            "\n",
            "The topic is:  museum and history\n",
            "\n",
            "The topic is:  food and dining\n",
            "\n",
            "The topic is:  nature and outdoors\n",
            "\n",
            "The topic is:  music\n",
            "\n",
            "The topic is:  technology\n",
            "\n",
            "The topic is:  shopping\n",
            "\n",
            "The topic is:  movies and entertainment\n"
          ]
        },
        {
          "output_type": "execute_result",
          "data": {
            "text/plain": [
              "[{'title': 'Rodney Cook Sr. Park',\n",
              "  'address': '609 Thurmond St NW, Atlanta, GA  30314, United States',\n",
              "  'latitude': 33.7617605739047,\n",
              "  'longitude': -84.4076693058014,\n",
              "  'phone': '+14048810900'},\n",
              " {'title': 'Atlanta Street Art Tours',\n",
              "  'address': '381 Edgewood Ave SE, Cafe + Velo, Atlanta, GA 30312-1839',\n",
              "  'latitude': 33.7542204,\n",
              "  'longitude': -84.3750217,\n",
              "  'phone': '+14043309320'},\n",
              " {'title': 'SCAD Art Sales',\n",
              "  'address': '1600 Peachtree St NE, Atlanta, GA  30309, United States',\n",
              "  'latitude': 33.7968179,\n",
              "  'longitude': -84.3910238,\n",
              "  'phone': ''},\n",
              " {'title': 'Scad Fash',\n",
              "  'address': '1600 Peachtree St NW, Atlanta, GA 30309-2403',\n",
              "  'latitude': 33.7966955033164,\n",
              "  'longitude': -84.3911361694336,\n",
              "  'phone': '+14042533132'},\n",
              " {'title': 'Museum of Contemporary Art Georgia',\n",
              "  'address': '75 Bennett St NW, Unit A2, Atlanta, GA 30309, United States',\n",
              "  'latitude': 33.8121812,\n",
              "  'longitude': -84.3951824,\n",
              "  'phone': '+14043678700'},\n",
              " {'title': 'Besharat Museum Gallery',\n",
              "  'address': '163-175 Peters St. SW, Atlanta, GA 30313, United States',\n",
              "  'latitude': 33.7497093,\n",
              "  'longitude': -84.3993251,\n",
              "  'phone': '+14045244781'},\n",
              " {'title': 'R. Thomas Deluxe Grill',\n",
              "  'address': '1812 Peachtree St NW, Atlanta, GA 30309-1858',\n",
              "  'latitude': 33.8042602,\n",
              "  'longitude': -84.3937309,\n",
              "  'phone': '+14048722942'},\n",
              " {'title': 'Caribbean Delight',\n",
              "  'address': '576 Lee St SW, #b, Atlanta, GA 30310',\n",
              "  'latitude': 33.7392397,\n",
              "  'longitude': -84.4138299,\n",
              "  'phone': '+14047526173'},\n",
              " {'title': 'Maple Street Guitars',\n",
              "  'address': '3199 Maple Dr NE, Atlanta, GA  30305, United States',\n",
              "  'latitude': 33.8424418,\n",
              "  'longitude': -84.3719906,\n",
              "  'phone': '+14042315214'},\n",
              " {'title': \"America's Realest Music\",\n",
              "  'address': '249 Peters St SW, Atlanta, GA  30313, United States',\n",
              "  'latitude': 33.7479105,\n",
              "  'longitude': -84.401598,\n",
              "  'phone': '+14042545208'},\n",
              " {'title': 'The Music Class',\n",
              "  'address': '1280 Peachtree St NE, Atlanta, GA  30309, United States',\n",
              "  'latitude': 33.7893054,\n",
              "  'longitude': -84.3847854,\n",
              "  'phone': '+17706455578'},\n",
              " {'title': 'The Music Class',\n",
              "  'address': '257 Buckhead Ave NE, Atlanta, GA  30305, United States',\n",
              "  'latitude': 33.8380788,\n",
              "  'longitude': -84.378124,\n",
              "  'phone': '+17706455578'},\n",
              " {'title': 'The Music Studio Atlanta',\n",
              "  'address': '4895 S Atlanta Rd, Suite 100, Atlanta, GA 30339, United States',\n",
              "  'latitude': 33.8372081,\n",
              "  'longitude': -84.473629,\n",
              "  'phone': '+14043519722'},\n",
              " {'title': 'The Music Class',\n",
              "  'address': '2991 N Druid Hills Rd, Atlanta, GA  30329, United States',\n",
              "  'latitude': 33.81311,\n",
              "  'longitude': -84.310478,\n",
              "  'phone': '+17706455578'},\n",
              " {'title': 'Tech Square',\n",
              "  'address': '79 5th St NW, Atlanta, GA  30308, United States',\n",
              "  'latitude': 33.777007,\n",
              "  'longitude': -84.389108,\n",
              "  'phone': '+14043306000'},\n",
              " {'title': 'Peachtree Battle Shopping Center',\n",
              "  'address': '2325 Peachtree Rd NE, Atlanta, GA  30309, United States',\n",
              "  'latitude': 33.8195632497893,\n",
              "  'longitude': -84.3866664357483,\n",
              "  'phone': '+18888572929'},\n",
              " {'title': 'Flats at Ponce City Market',\n",
              "  'address': '650 North Ave NE, Unit 187, Atlanta, GA  30308, United States',\n",
              "  'latitude': 33.771564,\n",
              "  'longitude': -84.3673637,\n",
              "  'phone': '+14044104400'},\n",
              " {'title': 'AMC Phipps Plaza 14',\n",
              "  'address': '3500 Peachtree Rd NE, Atlanta, GA 30326-1222',\n",
              "  'latitude': 33.8526399198563,\n",
              "  'longitude': -84.3628527199348,\n",
              "  'phone': '+14042311492'},\n",
              " {'title': 'Midtown Art Cinema',\n",
              "  'address': '931 Monroe Dr NE, Atlanta, GA 30308-1793',\n",
              "  'latitude': 33.7789868,\n",
              "  'longitude': -84.3668246,\n",
              "  'phone': '+14048790160'},\n",
              " {'title': 'IPIC Atlanta',\n",
              "  'address': '1197 Peachtree St NE, Suite350, Atlanta, GA 30361-3502',\n",
              "  'latitude': 33.7873215,\n",
              "  'longitude': -84.3820624,\n",
              "  'phone': '+14708938525'},\n",
              " {'title': 'Regal Cinemas',\n",
              "  'address': '261 19th St NW, Unit 1250, Atlanta, GA 30363, United States',\n",
              "  'latitude': 33.7938329,\n",
              "  'longitude': -84.3963199,\n",
              "  'phone': '+18444627342'},\n",
              " {'title': 'NCG Cinemas',\n",
              "  'address': '3365 Buford Hwy NE, Unit 920, Atlanta, GA 30329, United States',\n",
              "  'latitude': 33.843441,\n",
              "  'longitude': -84.3250988,\n",
              "  'phone': '+14703750333'}]"
            ]
          },
          "metadata": {},
          "execution_count": 12
        }
      ]
    },
    {
      "cell_type": "code",
      "source": [
        "import threading\n",
        "from openai import OpenAI\n",
        "\n",
        "def generate_information(place_name, client):\n",
        "    prompt = f\"\"\"\n",
        "    Based on what you know, generate about this place: {place_name}.\n",
        "    Key information such as the environment and atmosphere of the place. If possible, estimate the range of the cost, and give some recommendations of what food people ordered or activities they did.\n",
        "    Label them appropriately, and go to the next line for each detail.\n",
        "    \"\"\"\n",
        "    response = client.chat.completions.create(\n",
        "        model=\"gpt-3.5-turbo-1106\",\n",
        "        max_tokens=200,\n",
        "        temperature=0,\n",
        "        messages=\n",
        "        [\n",
        "            {\n",
        "                \"role\": \"system\",\n",
        "                \"content\": \"You are a helpful assistant.\",\n",
        "            },\n",
        "            {\n",
        "                \"role\": \"user\",\n",
        "                \"content\": prompt,\n",
        "            },\n",
        "        ],\n",
        "\n",
        "    )\n",
        "    return response.choices[0].message.content.strip()\n",
        "\n",
        "def thread_worker(place, client):\n",
        "    try:\n",
        "        place['generated_info'] = generate_information(place['title'], client)\n",
        "    except Exception as e:\n",
        "        print(f\"Error generating information for {place['title']}: {e}\")\n",
        "\n",
        "def process_places_concurrently(places, client):\n",
        "    threads = []\n",
        "    for place in places:\n",
        "        t = threading.Thread(target=thread_worker, args=(place, client))\n",
        "        threads.append(t)\n",
        "        t.start()\n",
        "\n",
        "    # Wait for all threads to complete\n",
        "    for t in threads:\n",
        "        t.join()\n",
        "\n",
        "    return places\n",
        "\n",
        "\n",
        "\n",
        "client = OpenAI(api_key=openai_api_key)\n",
        "updated_recommended_places_list = process_places_concurrently(recommended_places_list, client)\n",
        "updated_recommended_places_list"
      ],
      "metadata": {
        "colab": {
          "base_uri": "https://localhost:8080/"
        },
        "id": "yCA75hTJhGqP",
        "outputId": "53892825-bb75-45ba-95f0-41c7c1911feb"
      },
      "id": "yCA75hTJhGqP",
      "execution_count": 24,
      "outputs": [
        {
          "output_type": "execute_result",
          "data": {
            "text/plain": [
              "[{'title': 'Rodney Cook Sr. Park',\n",
              "  'address': '609 Thurmond St NW, Atlanta, GA  30314, United States',\n",
              "  'latitude': 33.7617605739047,\n",
              "  'longitude': -84.4076693058014,\n",
              "  'phone': '+14048810900',\n",
              "  'generated_info': 'Rodney Cook Sr. Park is a beautiful urban park located in the historic Vine City neighborhood of Atlanta, Georgia. The park offers a peaceful and serene environment with lush green spaces, walking trails, and a stunning water feature.\\n\\nEnvironment and Atmosphere: The park provides a tranquil and relaxing atmosphere, making it an ideal spot for picnics, leisurely strolls, and enjoying the natural surroundings.\\n\\nCost: Admission to Rodney Cook Sr. Park is free, making it an affordable option for a day out in nature.\\n\\nFood Recommendations: Visitors often bring their own picnic lunches to enjoy in the park. Nearby restaurants and food trucks offer a variety of options for takeout, including sandwiches, salads, and other picnic-friendly fare.\\n\\nActivities: Popular activities at the park include walking or jogging along the trails, enjoying the water feature, and taking in the beautiful views of the city skyline. The park also hosts community events and gatherings, providing opportunities for socializing and enjoying outdoor activities.'},\n",
              " {'title': 'Atlanta Street Art Tours',\n",
              "  'address': '381 Edgewood Ave SE, Cafe + Velo, Atlanta, GA 30312-1839',\n",
              "  'latitude': 33.7542204,\n",
              "  'longitude': -84.3750217,\n",
              "  'phone': '+14043309320',\n",
              "  'generated_info': \"Atlanta Street Art Tours offers a vibrant and creative environment, showcasing the city's diverse and dynamic street art scene. The atmosphere is lively and engaging, providing a unique opportunity to explore the city's urban art landscape.\\n\\nCost: The range of cost for Atlanta Street Art Tours typically falls between $20 to $40 per person, depending on the duration and specific offerings of the tour.\\n\\nFood: After the tour, visitors often enjoy exploring the local food scene. Some popular recommendations include trying Southern comfort food such as fried chicken, biscuits, and collard greens, or sampling international cuisine at one of the many diverse restaurants in the area.\\n\\nActivities: In addition to the street art tour, visitors can also explore nearby attractions such as museums, galleries, and local markets to further immerse themselves in Atlanta's vibrant arts and culture scene.\"},\n",
              " {'title': 'SCAD Art Sales',\n",
              "  'address': '1600 Peachtree St NE, Atlanta, GA  30309, United States',\n",
              "  'latitude': 33.7968179,\n",
              "  'longitude': -84.3910238,\n",
              "  'phone': '',\n",
              "  'generated_info': 'SCAD Art Sales is a vibrant and creative space located in Savannah, Georgia, known for its diverse collection of artwork created by students, alumni, and faculty of the Savannah College of Art and Design (SCAD). The atmosphere is filled with artistic energy and a sense of innovation, making it an inspiring place to explore and appreciate art.\\n\\nCost Range: The cost of artwork at SCAD Art Sales can vary widely, depending on the size, medium, and artist. Prices can range from affordable prints and small pieces to higher-end original works of art.\\n\\nRecommendations:\\n- Food: Visitors to SCAD Art Sales often enjoy grabbing a coffee or light snack from nearby cafes and bakeries before or after exploring the artwork.\\n- Activities: In addition to browsing and purchasing art, visitors can also participate in workshops, artist talks, and special events hosted by SCAD Art Sales, providing an enriching and interactive experience.\\n\\nOverall, SCAD Art Sales offers a dynamic and engaging environment for art enthusiasts, providing an'},\n",
              " {'title': 'Scad Fash',\n",
              "  'address': '1600 Peachtree St NW, Atlanta, GA 30309-2403',\n",
              "  'latitude': 33.7966955033164,\n",
              "  'longitude': -84.3911361694336,\n",
              "  'phone': '+14042533132',\n",
              "  'generated_info': \"Scad Fash is a contemporary art and fashion museum located in Atlanta, Georgia. The environment is modern and stylish, with a focus on showcasing cutting-edge fashion and design.\\n\\nAtmosphere: The atmosphere at Scad Fash is creative and inspiring, with a mix of fashion, art, and design that appeals to a diverse audience.\\n\\nCost: The cost of admission to Scad Fash typically ranges from $10 to $20, with discounts available for students and seniors.\\n\\nFood: Visitors to Scad Fash can enjoy a variety of dining options in the surrounding area, including trendy cafes and restaurants offering a range of cuisines to suit different tastes.\\n\\nActivities: In addition to viewing the museum's exhibitions, visitors can participate in guided tours, workshops, and special events that offer insight into the world of fashion and design.\\n\\nOverall, Scad Fash provides a unique and engaging experience for those interested in contemporary art and fashion.\"},\n",
              " {'title': 'Museum of Contemporary Art Georgia',\n",
              "  'address': '75 Bennett St NW, Unit A2, Atlanta, GA 30309, United States',\n",
              "  'latitude': 33.8121812,\n",
              "  'longitude': -84.3951824,\n",
              "  'phone': '+14043678700',\n",
              "  'generated_info': 'The Museum of Contemporary Art Georgia (MOCA GA) is a vibrant and dynamic cultural institution located in Atlanta, Georgia. The environment and atmosphere of the museum are characterized by a celebration of contemporary art and a commitment to showcasing the work of Georgia artists.\\n\\nCost: The range of cost for admission to MOCA GA is typically affordable, making it accessible to a wide range of visitors.\\n\\nFood: Visitors to MOCA GA can explore the diverse culinary offerings in the surrounding area, with popular options including local cafes and restaurants serving a variety of cuisines. Recommendations might include trying out a nearby cafe for a light meal or snack before or after visiting the museum.\\n\\nActivities: In addition to viewing the thought-provoking contemporary art on display, visitors to MOCA GA can also participate in educational programs, artist talks, and special events that offer insight into the creative process and the local art scene.'},\n",
              " {'title': 'Besharat Museum Gallery',\n",
              "  'address': '163-175 Peters St. SW, Atlanta, GA 30313, United States',\n",
              "  'latitude': 33.7497093,\n",
              "  'longitude': -84.3993251,\n",
              "  'phone': '+14045244781',\n",
              "  'generated_info': 'Besharat Museum Gallery is a contemporary art gallery located in Atlanta, Georgia. The environment is sophisticated and elegant, with a focus on showcasing diverse and thought-provoking artwork. The atmosphere is serene and conducive to appreciating the beauty and creativity of the exhibited pieces.\\n\\nCost: The cost of admission to Besharat Museum Gallery typically ranges from $10 to $20, with discounts available for students and seniors.\\n\\nFood: Visitors to Besharat Museum Gallery often enjoy light bites and refreshments at the on-site café, which offers a selection of gourmet sandwiches, salads, and pastries.\\n\\nActivities: In addition to viewing the stunning art collection, visitors can participate in guided tours, artist talks, and workshops to gain deeper insights into the creative process and the stories behind the artworks.'},\n",
              " {'title': 'R. Thomas Deluxe Grill',\n",
              "  'address': '1812 Peachtree St NW, Atlanta, GA 30309-1858',\n",
              "  'latitude': 33.8042602,\n",
              "  'longitude': -84.3937309,\n",
              "  'phone': '+14048722942',\n",
              "  'generated_info': 'R. Thomas Deluxe Grill is a popular restaurant located in Atlanta, Georgia. The environment and atmosphere of the place is casual and relaxed, with a unique outdoor dining area surrounded by lush greenery.\\n\\nCost range: The cost range at R. Thomas Deluxe Grill is moderate, with most entrees falling in the range of $10 to $20.\\n\\nFood recommendations: Customers often enjoy the grilled salmon, veggie burgers, and the extensive selection of smoothies and fresh juices.\\n\\nActivities: Visitors often enjoy the outdoor seating area, which provides a peaceful and serene dining experience amidst the bustling city. The restaurant also has a pet-friendly policy, so many people bring their furry friends along to enjoy the outdoor space.\\n\\nOverall, R. Thomas Deluxe Grill offers a welcoming and laid-back atmosphere, making it a popular choice for both locals and visitors to Atlanta.'},\n",
              " {'title': 'Caribbean Delight',\n",
              "  'address': '576 Lee St SW, #b, Atlanta, GA 30310',\n",
              "  'latitude': 33.7392397,\n",
              "  'longitude': -84.4138299,\n",
              "  'phone': '+14047526173',\n",
              "  'generated_info': 'Caribbean Delight is a vibrant and lively restaurant that captures the essence of the Caribbean. The atmosphere is relaxed and welcoming, with colorful decor and a tropical ambiance.\\n\\nCost range: The cost range at Caribbean Delight is moderate, making it an affordable option for those looking to enjoy Caribbean cuisine.\\n\\nFood recommendations: Customers often order popular dishes such as jerk chicken, rice and peas, plantains, and seafood dishes like grilled fish or shrimp. The restaurant also offers a variety of tropical cocktails and refreshing beverages.\\n\\nActivities: Guests can enjoy live music and entertainment, adding to the festive atmosphere. Additionally, Caribbean Delight may host special events or themed nights, providing a fun and engaging experience for patrons.\\n\\nOverall, Caribbean Delight offers a taste of the Caribbean in a lively and inviting setting, making it a popular choice for those seeking a flavorful and enjoyable dining experience.'},\n",
              " {'title': 'Maple Street Guitars',\n",
              "  'address': '3199 Maple Dr NE, Atlanta, GA  30305, United States',\n",
              "  'latitude': 33.8424418,\n",
              "  'longitude': -84.3719906,\n",
              "  'phone': '+14042315214',\n",
              "  'generated_info': 'Maple Street Guitars is a renowned guitar shop located in Atlanta, Georgia. The atmosphere of the place is relaxed and welcoming, with a strong sense of community among musicians and guitar enthusiasts.\\n\\nCost Range: The cost range for guitars at Maple Street Guitars varies widely, from affordable beginner instruments to high-end, custom-made guitars.\\n\\nRecommendations:\\n- Food: While Maple Street Guitars does not serve food, there are several cafes and restaurants nearby where visitors can grab a bite to eat before or after browsing the shop.\\n- Activities: Visitors to Maple Street Guitars often spend time trying out different guitars, chatting with the knowledgeable staff, and attending events such as guitar workshops and live performances.\\n\\nOverall, Maple Street Guitars offers a friendly and inclusive environment for guitar enthusiasts of all levels, and is a must-visit for anyone passionate about music and guitars.'},\n",
              " {'title': \"America's Realest Music\",\n",
              "  'address': '249 Peters St SW, Atlanta, GA  30313, United States',\n",
              "  'latitude': 33.7479105,\n",
              "  'longitude': -84.401598,\n",
              "  'phone': '+14042545208',\n",
              "  'generated_info': 'I\\'m sorry, but I\\'m not familiar with a specific place called \"America\\'s Realest Music.\" However, if you\\'re referring to a music venue or a specific location known for its authentic American music, I can certainly help provide information based on that assumption. Could you please clarify or provide more details about the specific location or venue you\\'re referring to?'},\n",
              " {'title': 'The Music Class',\n",
              "  'address': '1280 Peachtree St NE, Atlanta, GA  30309, United States',\n",
              "  'latitude': 33.7893054,\n",
              "  'longitude': -84.3847854,\n",
              "  'phone': '+17706455578',\n",
              "  'generated_info': \"The Music Class is a vibrant and creative environment where students of all ages come to learn and explore the world of music. The atmosphere is filled with the sound of instruments and the joy of musical expression.\\n\\nCost: The range of cost for classes at The Music Class can vary depending on the type of instruction and the duration of the classes. Typically, group classes are more affordable than private lessons.\\n\\nFood: Since The Music Class is primarily focused on music education, food options may not be available on-site. However, students and parents can enjoy nearby cafes or restaurants before or after classes.\\n\\nActivities: Students at The Music Class engage in a variety of activities, including learning to play instruments, singing, music theory, and ensemble performances. Additionally, the school may host recitals and concerts to showcase the students' progress and talents.\"},\n",
              " {'title': 'The Music Class',\n",
              "  'address': '257 Buckhead Ave NE, Atlanta, GA  30305, United States',\n",
              "  'latitude': 33.8380788,\n",
              "  'longitude': -84.378124,\n",
              "  'phone': '+17706455578',\n",
              "  'generated_info': 'The Music Class is a vibrant and lively environment, filled with the sound of music and the energy of passionate musicians. The atmosphere is creative and inspiring, encouraging students to explore their musical talents and express themselves through various instruments and genres.\\n\\nCost: The range of cost for classes at The Music Class can vary depending on the type of instruction and duration, but typically falls within the range of $50 to $100 per session.\\n\\nFood: While The Music Class may not offer food directly, students and visitors often enjoy grabbing a quick bite at nearby cafes or restaurants before or after their classes. Popular choices include light and energizing options such as sandwiches, salads, and smoothies.\\n\\nActivities: Students at The Music Class engage in a variety of activities, including learning to play instruments, vocal training, music theory, and ensemble performances. Additionally, the school may host events such as open mic nights, recitals, and workshops to further enrich the musical experience for its students.'},\n",
              " {'title': 'The Music Studio Atlanta',\n",
              "  'address': '4895 S Atlanta Rd, Suite 100, Atlanta, GA 30339, United States',\n",
              "  'latitude': 33.8372081,\n",
              "  'longitude': -84.473629,\n",
              "  'phone': '+14043519722',\n",
              "  'generated_info': \"The Music Studio Atlanta is a vibrant and creative space for musicians and music enthusiasts. The environment is lively and inspiring, with a focus on fostering creativity and collaboration. The atmosphere is welcoming and supportive, making it an ideal place for artists to hone their craft.\\n\\nCost: The range of cost for using the studio facilities can vary depending on the specific services and amenities required. It's best to contact the studio directly for pricing information.\\n\\nFood: Visitors to The Music Studio Atlanta often order light snacks and refreshments to keep their energy up during recording sessions. Some popular choices include fruit platters, sandwiches, and energy bars.\\n\\nActivities: In addition to recording music, visitors to The Music Studio Atlanta often engage in activities such as songwriting workshops, music production classes, and live performances. These activities provide a well-rounded experience for musicians looking to develop their skills and connect with other artists.\"},\n",
              " {'title': 'The Music Class',\n",
              "  'address': '2991 N Druid Hills Rd, Atlanta, GA  30329, United States',\n",
              "  'latitude': 33.81311,\n",
              "  'longitude': -84.310478,\n",
              "  'phone': '+17706455578',\n",
              "  'generated_info': 'The Music Class is a vibrant and creative space where students of all ages come to learn and explore the world of music. The environment is filled with the sound of instruments and the energy of passionate musicians, creating a lively and inspiring atmosphere.\\n\\nCost: The range of cost for classes at The Music Class can vary depending on the type of instruction and the duration of the classes. Typically, group classes may range from $20 to $50 per session, while private lessons can range from $40 to $100 per session.\\n\\nFood: As The Music Class is primarily focused on music education, it does not typically offer food. However, students and visitors may enjoy light snacks and beverages during breaks in the classes.\\n\\nActivities: Students at The Music Class engage in a variety of activities, including learning to play instruments such as piano, guitar, violin, and drums. They also participate in music theory lessons, ensemble performances, and music appreciation exercises.'},\n",
              " {'title': 'Tech Square',\n",
              "  'address': '79 5th St NW, Atlanta, GA  30308, United States',\n",
              "  'latitude': 33.777007,\n",
              "  'longitude': -84.389108,\n",
              "  'phone': '+14043306000',\n",
              "  'generated_info': 'Tech Square is a vibrant and bustling area located in the heart of Atlanta, Georgia. The environment is dynamic and innovative, with a mix of tech companies, startups, and academic institutions creating a lively and forward-thinking atmosphere.\\n\\nCost range: The cost range for dining and activities in Tech Square can vary, with options to suit different budgets. There are affordable eateries as well as higher-end restaurants, and activities range from free events to paid experiences.\\n\\nFood recommendations: Visitors to Tech Square often enjoy a diverse range of cuisines, including popular choices such as gourmet burgers, sushi, and artisanal pizza. Local favorites include food trucks offering creative and delicious street food, as well as trendy cafes serving specialty coffee and pastries.\\n\\nActivity recommendations: Tech Square offers a range of activities, from attending tech meetups and networking events to exploring the nearby museums and art galleries. Visitors can also enjoy outdoor activities in the nearby parks or take part in fitness classes and wellness workshops offered by local businesses.'},\n",
              " {'title': 'Peachtree Battle Shopping Center',\n",
              "  'address': '2325 Peachtree Rd NE, Atlanta, GA  30309, United States',\n",
              "  'latitude': 33.8195632497893,\n",
              "  'longitude': -84.3866664357483,\n",
              "  'phone': '+18888572929',\n",
              "  'generated_info': \"Peachtree Battle Shopping Center is a popular shopping destination located in the Buckhead neighborhood of Atlanta, Georgia. The atmosphere of the center is vibrant and bustling, with a mix of upscale and casual shops and restaurants.\\n\\nCost Range: The cost range for shopping and dining at Peachtree Battle Shopping Center varies, with options to suit different budgets.\\n\\nFood Recommendations: Visitors to the shopping center often enjoy dining at popular restaurants such as Flying Biscuit Cafe for their delicious breakfast options, or La Fonda Latina for authentic Latin cuisine. For a quick bite, many people opt for a sandwich or salad from Jason's Deli.\\n\\nActivities: In addition to shopping, visitors can enjoy activities such as grabbing a coffee and strolling through the outdoor courtyard, or indulging in a spa treatment at one of the wellness centers in the area. The center also hosts events and seasonal activities, providing entertainment for all ages.\"},\n",
              " {'title': 'Flats at Ponce City Market',\n",
              "  'address': '650 North Ave NE, Unit 187, Atlanta, GA  30308, United States',\n",
              "  'latitude': 33.771564,\n",
              "  'longitude': -84.3673637,\n",
              "  'phone': '+14044104400',\n",
              "  'generated_info': 'The Flats at Ponce City Market is a modern residential community located in the heart of Atlanta, Georgia. The environment is vibrant and urban, with a mix of historic and contemporary architecture creating a unique atmosphere.\\n\\nCost: The range of cost for living at the Flats at Ponce City Market varies depending on the size and type of apartment, but generally falls within the mid to high range for the Atlanta area.\\n\\nFood: Residents often enjoy dining at the various restaurants and eateries located within Ponce City Market, such as H&F Burger, Botiwalla, and Minero. These establishments offer a diverse range of cuisines, from classic American fare to Indian street food and Mexican cuisine.\\n\\nActivities: Residents can take advantage of the numerous amenities within the community, including a fitness center, rooftop pool, and access to the BeltLine trail for outdoor activities. Additionally, the proximity to Ponce City Market provides easy access to shopping, entertainment, and cultural events.'},\n",
              " {'title': 'AMC Phipps Plaza 14',\n",
              "  'address': '3500 Peachtree Rd NE, Atlanta, GA 30326-1222',\n",
              "  'latitude': 33.8526399198563,\n",
              "  'longitude': -84.3628527199348,\n",
              "  'phone': '+14042311492',\n",
              "  'generated_info': \"AMC Phipps Plaza 14 is a modern and upscale movie theater located in the heart of Atlanta, Georgia. The environment is stylish and sophisticated, with comfortable seating and state-of-the-art technology, providing a luxurious movie-watching experience.\\n\\nCost range: The ticket prices at AMC Phipps Plaza 14 are in the mid to high range, reflecting the premium experience offered.\\n\\nFood recommendations: Guests can enjoy a variety of gourmet snacks and beverages, including freshly popped popcorn, nachos, hot dogs, and a wide selection of candies. Additionally, the theater offers a full-service bar with a range of cocktails, beer, and wine.\\n\\nActivities: In addition to watching the latest blockbuster films, visitors can take advantage of the theater's special events, such as advanced screenings, movie marathons, and special promotions. The theater also hosts occasional live events and screenings of classic films, providing a diverse entertainment experience for movie enthusiasts.\"},\n",
              " {'title': 'Midtown Art Cinema',\n",
              "  'address': '931 Monroe Dr NE, Atlanta, GA 30308-1793',\n",
              "  'latitude': 33.7789868,\n",
              "  'longitude': -84.3668246,\n",
              "  'phone': '+14048790160',\n",
              "  'generated_info': \"Midtown Art Cinema is a popular independent movie theater located in the heart of Atlanta, Georgia. The atmosphere of the place is artsy and eclectic, with a focus on showcasing independent and foreign films, as well as documentaries.\\n\\nCost Range: The ticket prices at Midtown Art Cinema typically range from $10 to $15, depending on the time of day and the type of film being shown.\\n\\nFood Recommendations: Visitors often enjoy grabbing a bite to eat at the theater's café, which offers a variety of gourmet snacks and light meals. Popular choices include artisanal cheese plates, charcuterie boards, and specialty popcorn flavors.\\n\\nActivities: In addition to watching films, patrons can also attend special events such as film festivals, director Q&A sessions, and themed movie nights. The theater also occasionally hosts art exhibitions and live performances, adding to the vibrant cultural experience.\"},\n",
              " {'title': 'IPIC Atlanta',\n",
              "  'address': '1197 Peachtree St NE, Suite350, Atlanta, GA 30361-3502',\n",
              "  'latitude': 33.7873215,\n",
              "  'longitude': -84.3820624,\n",
              "  'phone': '+14708938525',\n",
              "  'generated_info': 'IPIC Atlanta is a luxury movie theater located in the Buckhead neighborhood of Atlanta, Georgia. The atmosphere is upscale and sophisticated, with a focus on providing a high-end cinematic experience.\\n\\nCost Range: The cost range for a visit to IPIC Atlanta can vary, but generally, tickets and food can be on the higher end due to the premium experience offered.\\n\\nFood Recommendations: Guests at IPIC Atlanta often enjoy gourmet dining options such as truffle fries, sushi, sliders, and artisanal pizzas while watching their movie. The menu also includes a variety of cocktails and desserts.\\n\\nActivities: In addition to watching movies, guests can also enjoy the IPIC experience, which includes reclining leather seats, in-theater dining, and a full-service bar. The theater also hosts special events and screenings for a unique entertainment experience.'},\n",
              " {'title': 'Regal Cinemas',\n",
              "  'address': '261 19th St NW, Unit 1250, Atlanta, GA 30363, United States',\n",
              "  'latitude': 33.7938329,\n",
              "  'longitude': -84.3963199,\n",
              "  'phone': '+18444627342',\n",
              "  'generated_info': 'Regal Cinemas is a popular chain of movie theaters known for its comfortable seating and state-of-the-art sound and projection systems. The environment is typically lively and bustling, especially during peak movie times, creating an exciting atmosphere for moviegoers.\\n\\nCost range: The cost of tickets at Regal Cinemas can vary depending on the location and time of day, but generally falls within the mid-range compared to other theater chains.\\n\\nFood recommendations: Popcorn, nachos, and candy are popular choices at Regal Cinemas. Many patrons also enjoy pairing their movie experience with a variety of fountain drinks and specialty beverages.\\n\\nActivities: In addition to watching movies, some Regal Cinemas locations offer special events such as screenings of classic films, live broadcasts of theater performances, and special movie marathons. These activities provide additional entertainment options for patrons looking for a unique moviegoing experience.'},\n",
              " {'title': 'NCG Cinemas',\n",
              "  'address': '3365 Buford Hwy NE, Unit 920, Atlanta, GA 30329, United States',\n",
              "  'latitude': 33.843441,\n",
              "  'longitude': -84.3250988,\n",
              "  'phone': '+14703750333',\n",
              "  'generated_info': 'NCG Cinemas is a popular movie theater chain known for its modern facilities and comfortable atmosphere. The environment is typically lively and bustling, especially during peak movie times, creating an exciting and energetic atmosphere.\\n\\nCost Range: The cost of tickets at NCG Cinemas can vary depending on the location and time of day, but generally falls within the mid-range compared to other movie theaters.\\n\\nFood Recommendations: Moviegoers often enjoy classic theater snacks such as popcorn, candy, and soda. Some locations may also offer a variety of hot food options, including nachos, hot dogs, and pretzels.\\n\\nActivities: In addition to watching movies, NCG Cinemas may offer special events such as screenings of classic films, live broadcasts of theater performances, and special movie marathons for popular franchises. Some locations also have arcade areas for pre or post-movie entertainment.'}]"
            ]
          },
          "metadata": {},
          "execution_count": 24
        }
      ]
    },
    {
      "cell_type": "markdown",
      "source": [
        "## Generating information concurrently"
      ],
      "metadata": {
        "id": "aIuJCxUWjVyZ"
      },
      "id": "aIuJCxUWjVyZ"
    },
    {
      "cell_type": "markdown",
      "source": [
        "## Websites result from place"
      ],
      "metadata": {
        "id": "TaOp0ZA_dkAV"
      },
      "id": "TaOp0ZA_dkAV"
    },
    {
      "cell_type": "code",
      "source": [
        "detailed_result_list = []\n",
        "for r in ddgs.text('R. Thomas Deluxe Grill', max_results=10):\n",
        "    detailed_result_list.append(r)\n",
        "detailed_result_list"
      ],
      "metadata": {
        "id": "tZWoi7yfeYc-"
      },
      "id": "tZWoi7yfeYc-",
      "execution_count": null,
      "outputs": []
    },
    {
      "cell_type": "code",
      "source": [
        "detailed_result_list[0]"
      ],
      "metadata": {
        "colab": {
          "base_uri": "https://localhost:8080/"
        },
        "id": "eYfo9gBROAKg",
        "outputId": "a7e8ef4c-099b-42b3-ac95-cf905670addb"
      },
      "id": "eYfo9gBROAKg",
      "execution_count": 17,
      "outputs": [
        {
          "output_type": "execute_result",
          "data": {
            "text/plain": [
              "{'title': 'R. Thomas Deluxe Grill',\n",
              " 'href': 'https://www.rthomasdeluxegrill.net/',\n",
              " 'body': 'R. Thomas Deluxe Grill R. Thomas Deluxe Grill in Atlanta, GA. Food for everyone! We use fresh vegetables, fruit and meat across our menu. We have something yummy for every type of tummy. From burgers to vegan we aim to feed you. Write a Review, Win $500! Help guests by leaving a review of your favorite dishes.'}"
            ]
          },
          "metadata": {},
          "execution_count": 17
        }
      ]
    },
    {
      "cell_type": "code",
      "source": [
        "crawl_site('https://www.rthomasdeluxegrill.net/') # not using because it does not crawl efficiently"
      ],
      "metadata": {
        "colab": {
          "base_uri": "https://localhost:8080/"
        },
        "id": "m-RbQqZ2OalO",
        "outputId": "2225b3e1-4c42-4ee2-fbe2-9e1aed3e48b0"
      },
      "id": "m-RbQqZ2OalO",
      "execution_count": 19,
      "outputs": [
        {
          "output_type": "execute_result",
          "data": {
            "text/plain": [
              "[Document(page_content='Just a moment...Enable JavaScript and cookies to continue', metadata={'source': 'https://www.rthomasdeluxegrill.net/', 'title': 'Just a moment...', 'language': 'en-US'})]"
            ]
          },
          "metadata": {},
          "execution_count": 19
        }
      ]
    },
    {
      "cell_type": "code",
      "source": [
        "!pip install beautifulsoup4==4.11.2 Flask==3.0.0"
      ],
      "metadata": {
        "colab": {
          "base_uri": "https://localhost:8080/"
        },
        "id": "OWomXTSwSJ_h",
        "outputId": "bcb7788d-77a7-4fcd-8b0b-42fa008a881b"
      },
      "id": "OWomXTSwSJ_h",
      "execution_count": 20,
      "outputs": [
        {
          "output_type": "stream",
          "name": "stdout",
          "text": [
            "Requirement already satisfied: beautifulsoup4==4.11.2 in /usr/local/lib/python3.10/dist-packages (4.11.2)\n",
            "Collecting Flask==3.0.0\n",
            "  Using cached flask-3.0.0-py3-none-any.whl (99 kB)\n",
            "Requirement already satisfied: soupsieve>1.2 in /usr/local/lib/python3.10/dist-packages (from beautifulsoup4==4.11.2) (2.5)\n",
            "Requirement already satisfied: Werkzeug>=3.0.0 in /usr/local/lib/python3.10/dist-packages (from Flask==3.0.0) (3.0.1)\n",
            "Requirement already satisfied: Jinja2>=3.1.2 in /usr/local/lib/python3.10/dist-packages (from Flask==3.0.0) (3.1.2)\n",
            "Requirement already satisfied: itsdangerous>=2.1.2 in /usr/local/lib/python3.10/dist-packages (from Flask==3.0.0) (2.1.2)\n",
            "Requirement already satisfied: click>=8.1.3 in /usr/local/lib/python3.10/dist-packages (from Flask==3.0.0) (8.1.7)\n",
            "Collecting blinker>=1.6.2 (from Flask==3.0.0)\n",
            "  Using cached blinker-1.7.0-py3-none-any.whl (13 kB)\n",
            "Requirement already satisfied: MarkupSafe>=2.0 in /usr/local/lib/python3.10/dist-packages (from Jinja2>=3.1.2->Flask==3.0.0) (2.1.3)\n",
            "Installing collected packages: blinker, Flask\n",
            "  Attempting uninstall: blinker\n",
            "    Found existing installation: blinker 1.4\n",
            "\u001b[31mERROR: Cannot uninstall 'blinker'. It is a distutils installed project and thus we cannot accurately determine which files belong to it which would lead to only a partial uninstall.\u001b[0m\u001b[31m\n",
            "\u001b[0m"
          ]
        }
      ]
    },
    {
      "cell_type": "code",
      "source": [
        "!pip install crochet==2.1.1\n",
        "!pip install Scrapy==2.11.0\n",
        "!pip install readability-lxml==0.8.1"
      ],
      "metadata": {
        "colab": {
          "base_uri": "https://localhost:8080/"
        },
        "id": "O4d52oVGS2CB",
        "outputId": "f0ea6982-bec2-4db9-b6e3-33fd23693b52"
      },
      "id": "O4d52oVGS2CB",
      "execution_count": 21,
      "outputs": [
        {
          "output_type": "stream",
          "name": "stdout",
          "text": [
            "Requirement already satisfied: crochet==2.1.1 in /usr/local/lib/python3.10/dist-packages (2.1.1)\n",
            "Requirement already satisfied: Twisted>=16.0 in /usr/local/lib/python3.10/dist-packages (from crochet==2.1.1) (22.10.0)\n",
            "Requirement already satisfied: wrapt in /usr/local/lib/python3.10/dist-packages (from crochet==2.1.1) (1.14.1)\n",
            "Requirement already satisfied: zope.interface>=4.4.2 in /usr/local/lib/python3.10/dist-packages (from Twisted>=16.0->crochet==2.1.1) (6.1)\n",
            "Requirement already satisfied: constantly>=15.1 in /usr/local/lib/python3.10/dist-packages (from Twisted>=16.0->crochet==2.1.1) (23.10.4)\n",
            "Requirement already satisfied: incremental>=21.3.0 in /usr/local/lib/python3.10/dist-packages (from Twisted>=16.0->crochet==2.1.1) (22.10.0)\n",
            "Requirement already satisfied: Automat>=0.8.0 in /usr/local/lib/python3.10/dist-packages (from Twisted>=16.0->crochet==2.1.1) (22.10.0)\n",
            "Requirement already satisfied: hyperlink>=17.1.1 in /usr/local/lib/python3.10/dist-packages (from Twisted>=16.0->crochet==2.1.1) (21.0.0)\n",
            "Requirement already satisfied: attrs>=19.2.0 in /usr/local/lib/python3.10/dist-packages (from Twisted>=16.0->crochet==2.1.1) (23.1.0)\n",
            "Requirement already satisfied: typing-extensions>=3.6.5 in /usr/local/lib/python3.10/dist-packages (from Twisted>=16.0->crochet==2.1.1) (4.5.0)\n",
            "Requirement already satisfied: six in /usr/local/lib/python3.10/dist-packages (from Automat>=0.8.0->Twisted>=16.0->crochet==2.1.1) (1.16.0)\n",
            "Requirement already satisfied: idna>=2.5 in /usr/local/lib/python3.10/dist-packages (from hyperlink>=17.1.1->Twisted>=16.0->crochet==2.1.1) (3.4)\n",
            "Requirement already satisfied: setuptools in /usr/local/lib/python3.10/dist-packages (from zope.interface>=4.4.2->Twisted>=16.0->crochet==2.1.1) (67.7.2)\n",
            "Requirement already satisfied: Scrapy==2.11.0 in /usr/local/lib/python3.10/dist-packages (2.11.0)\n",
            "Requirement already satisfied: Twisted<23.8.0,>=18.9.0 in /usr/local/lib/python3.10/dist-packages (from Scrapy==2.11.0) (22.10.0)\n",
            "Requirement already satisfied: cryptography>=36.0.0 in /usr/local/lib/python3.10/dist-packages (from Scrapy==2.11.0) (41.0.5)\n",
            "Requirement already satisfied: cssselect>=0.9.1 in /usr/local/lib/python3.10/dist-packages (from Scrapy==2.11.0) (1.2.0)\n",
            "Requirement already satisfied: itemloaders>=1.0.1 in /usr/local/lib/python3.10/dist-packages (from Scrapy==2.11.0) (1.1.0)\n",
            "Requirement already satisfied: parsel>=1.5.0 in /usr/local/lib/python3.10/dist-packages (from Scrapy==2.11.0) (1.8.1)\n",
            "Requirement already satisfied: pyOpenSSL>=21.0.0 in /usr/local/lib/python3.10/dist-packages (from Scrapy==2.11.0) (23.3.0)\n",
            "Requirement already satisfied: queuelib>=1.4.2 in /usr/local/lib/python3.10/dist-packages (from Scrapy==2.11.0) (1.6.2)\n",
            "Requirement already satisfied: service-identity>=18.1.0 in /usr/local/lib/python3.10/dist-packages (from Scrapy==2.11.0) (23.1.0)\n",
            "Requirement already satisfied: w3lib>=1.17.0 in /usr/local/lib/python3.10/dist-packages (from Scrapy==2.11.0) (2.1.2)\n",
            "Requirement already satisfied: zope.interface>=5.1.0 in /usr/local/lib/python3.10/dist-packages (from Scrapy==2.11.0) (6.1)\n",
            "Requirement already satisfied: protego>=0.1.15 in /usr/local/lib/python3.10/dist-packages (from Scrapy==2.11.0) (0.3.0)\n",
            "Requirement already satisfied: itemadapter>=0.1.0 in /usr/local/lib/python3.10/dist-packages (from Scrapy==2.11.0) (0.8.0)\n",
            "Requirement already satisfied: setuptools in /usr/local/lib/python3.10/dist-packages (from Scrapy==2.11.0) (67.7.2)\n",
            "Requirement already satisfied: packaging in /usr/local/lib/python3.10/dist-packages (from Scrapy==2.11.0) (23.2)\n",
            "Requirement already satisfied: tldextract in /usr/local/lib/python3.10/dist-packages (from Scrapy==2.11.0) (5.1.0)\n",
            "Requirement already satisfied: lxml>=4.4.1 in /usr/local/lib/python3.10/dist-packages (from Scrapy==2.11.0) (4.9.3)\n",
            "Requirement already satisfied: PyDispatcher>=2.0.5 in /usr/local/lib/python3.10/dist-packages (from Scrapy==2.11.0) (2.0.7)\n",
            "Requirement already satisfied: cffi>=1.12 in /usr/local/lib/python3.10/dist-packages (from cryptography>=36.0.0->Scrapy==2.11.0) (1.16.0)\n",
            "Requirement already satisfied: jmespath>=0.9.5 in /usr/local/lib/python3.10/dist-packages (from itemloaders>=1.0.1->Scrapy==2.11.0) (1.0.1)\n",
            "Requirement already satisfied: attrs>=19.1.0 in /usr/local/lib/python3.10/dist-packages (from service-identity>=18.1.0->Scrapy==2.11.0) (23.1.0)\n",
            "Requirement already satisfied: pyasn1 in /usr/local/lib/python3.10/dist-packages (from service-identity>=18.1.0->Scrapy==2.11.0) (0.5.0)\n",
            "Requirement already satisfied: pyasn1-modules in /usr/local/lib/python3.10/dist-packages (from service-identity>=18.1.0->Scrapy==2.11.0) (0.3.0)\n",
            "Requirement already satisfied: constantly>=15.1 in /usr/local/lib/python3.10/dist-packages (from Twisted<23.8.0,>=18.9.0->Scrapy==2.11.0) (23.10.4)\n",
            "Requirement already satisfied: incremental>=21.3.0 in /usr/local/lib/python3.10/dist-packages (from Twisted<23.8.0,>=18.9.0->Scrapy==2.11.0) (22.10.0)\n",
            "Requirement already satisfied: Automat>=0.8.0 in /usr/local/lib/python3.10/dist-packages (from Twisted<23.8.0,>=18.9.0->Scrapy==2.11.0) (22.10.0)\n",
            "Requirement already satisfied: hyperlink>=17.1.1 in /usr/local/lib/python3.10/dist-packages (from Twisted<23.8.0,>=18.9.0->Scrapy==2.11.0) (21.0.0)\n",
            "Requirement already satisfied: typing-extensions>=3.6.5 in /usr/local/lib/python3.10/dist-packages (from Twisted<23.8.0,>=18.9.0->Scrapy==2.11.0) (4.5.0)\n",
            "Requirement already satisfied: idna in /usr/local/lib/python3.10/dist-packages (from tldextract->Scrapy==2.11.0) (3.4)\n",
            "Requirement already satisfied: requests>=2.1.0 in /usr/local/lib/python3.10/dist-packages (from tldextract->Scrapy==2.11.0) (2.31.0)\n",
            "Requirement already satisfied: requests-file>=1.4 in /usr/local/lib/python3.10/dist-packages (from tldextract->Scrapy==2.11.0) (1.5.1)\n",
            "Requirement already satisfied: filelock>=3.0.8 in /usr/local/lib/python3.10/dist-packages (from tldextract->Scrapy==2.11.0) (3.13.1)\n",
            "Requirement already satisfied: six in /usr/local/lib/python3.10/dist-packages (from Automat>=0.8.0->Twisted<23.8.0,>=18.9.0->Scrapy==2.11.0) (1.16.0)\n",
            "Requirement already satisfied: pycparser in /usr/local/lib/python3.10/dist-packages (from cffi>=1.12->cryptography>=36.0.0->Scrapy==2.11.0) (2.21)\n",
            "Requirement already satisfied: charset-normalizer<4,>=2 in /usr/local/lib/python3.10/dist-packages (from requests>=2.1.0->tldextract->Scrapy==2.11.0) (3.3.2)\n",
            "Requirement already satisfied: urllib3<3,>=1.21.1 in /usr/local/lib/python3.10/dist-packages (from requests>=2.1.0->tldextract->Scrapy==2.11.0) (2.0.7)\n",
            "Requirement already satisfied: certifi>=2017.4.17 in /usr/local/lib/python3.10/dist-packages (from requests>=2.1.0->tldextract->Scrapy==2.11.0) (2023.7.22)\n",
            "Requirement already satisfied: readability-lxml==0.8.1 in /usr/local/lib/python3.10/dist-packages (0.8.1)\n",
            "Requirement already satisfied: chardet in /usr/local/lib/python3.10/dist-packages (from readability-lxml==0.8.1) (5.2.0)\n",
            "Requirement already satisfied: lxml in /usr/local/lib/python3.10/dist-packages (from readability-lxml==0.8.1) (4.9.3)\n",
            "Requirement already satisfied: cssselect in /usr/local/lib/python3.10/dist-packages (from readability-lxml==0.8.1) (1.2.0)\n"
          ]
        }
      ]
    },
    {
      "cell_type": "code",
      "source": [
        "import crochet\n",
        "crochet.setup()\n",
        "\n",
        "import bs4\n",
        "from duckduckgo_search import DDGS\n",
        "from openai import OpenAI\n",
        "import threading\n",
        "import queue\n",
        "from readability import Document\n",
        "import scrapy\n",
        "from scrapy.crawler import CrawlerRunner\n",
        "from scrapy.settings import Settings"
      ],
      "metadata": {
        "id": "fyfWpF06RwZO"
      },
      "id": "fyfWpF06RwZO",
      "execution_count": 86,
      "outputs": []
    },
    {
      "cell_type": "code",
      "source": [
        "CHUNK_SIZE = 13500\n",
        "CHUNK_OVERLAP = 100\n",
        "\n",
        "client = OpenAI()\n",
        "\n",
        "def extract_useful_information_from_single_chunk(url, title, text, ix, q=None):\n",
        "    '''\n",
        "    This function takes the url, title, and a chunk of text of a webpage, and it asks\n",
        "    openai to extract only the useful information from the text. It returns the result,\n",
        "    which is a string of text, and it also puts the result in a queue if a queue is passed in.\n",
        "    '''\n",
        "    # in this function, we will take the url, title, and some text extracted from the webpage\n",
        "    # by bs4, and we will ask openai to extract only the useful information from the text\n",
        "\n",
        "    prompt = f\"\"\"\n",
        "    You will be given information about a place. Your task is to extract and summarize the key information. If there is no information, simply return \"No Important Information Found\\n\".\n",
        "    Key information such as the environment and atmosphere of the place. If possible, estimate the range of the cost, and give some recommendations of what food people ordered or activities they did.\n",
        "    Please extract only the useful information from the text. Try not to rewrite the text, but instead extract only the useful information from the text.\n",
        "\n",
        "    Here is a url: {url}\n",
        "    Here is its title: {title}\n",
        "    Here is some text extracted from the webpage:\n",
        "    {text}\n",
        "    \"\"\"\n",
        "\n",
        "    response = client.chat.completions.create(\n",
        "        model=\"gpt-3.5-turbo-1106\",\n",
        "        max_tokens=500,\n",
        "        temperature=0.2,\n",
        "        top_p=0.5,\n",
        "        frequency_penalty=0.3,\n",
        "        messages=\n",
        "        [\n",
        "            {\n",
        "                \"role\": \"system\",\n",
        "                \"content\": \"You are a helpful assistant to help finding important information.\",\n",
        "            },\n",
        "            {\n",
        "                \"role\": \"user\",\n",
        "                \"content\": prompt,\n",
        "            },\n",
        "        ],\n",
        "\n",
        "    )\n",
        "    if q:\n",
        "        q.put((ix, response.choices[0].message.content))\n",
        "\n",
        "    text = response.choices[0].message.content.strip()\n",
        "\n",
        "    # sometimes the first line is something like \"Useful information extracted from the text:\", so we remove that\n",
        "    lines = text.splitlines()\n",
        "    if \"useful information\" in lines[0].lower():\n",
        "        text = '\\n'.join(lines[1:])\n",
        "\n",
        "    return (ix, text)\n",
        "\n",
        "def extract_useful_information(url, title, text, max_chunks):\n",
        "    '''\n",
        "    This function takes the url, title, and text of a webpage.\n",
        "    It returns the most useful information from the text.\n",
        "\n",
        "    , and it calls\n",
        "    extract_useful_information_from_single_chunk to extract the useful information.\n",
        "\n",
        "    It does this by breaking the text into chunks, and then calling\n",
        "    extract_useful_information_from_single_chunk on each chunk (which is turn calls openai).\n",
        "    It then concatenates the results from all the chunks.\n",
        "\n",
        "    It uses threading to do this in parallel, because openai is slow.\n",
        "    '''\n",
        "    # Create the chunks with the specified size and overlap\n",
        "    chunks = [text[i:i+CHUNK_SIZE] for i in range(0, len(text), CHUNK_SIZE - CHUNK_OVERLAP)]\n",
        "    chunks = chunks[:max_chunks]\n",
        "\n",
        "    threads = []\n",
        "\n",
        "    q = queue.Queue()\n",
        "\n",
        "    for ix, chunk in enumerate(chunks):\n",
        "        t = threading.Thread(target=extract_useful_information_from_single_chunk, args=(url, title, chunk, ix, q))\n",
        "        threads.append(t)\n",
        "        t.start()\n",
        "\n",
        "    # Wait for all threads to complete\n",
        "    for t in threads:\n",
        "        t.join()\n",
        "\n",
        "    # Get all the results from the queue\n",
        "    results = []\n",
        "    while not q.empty():\n",
        "        results.append(q.get())\n",
        "\n",
        "    # Sort the results by the index\n",
        "    results.sort(key=lambda x: x[0])\n",
        "\n",
        "    # concatenate the text from the results\n",
        "    text = ''.join([x[1] for x in results])\n",
        "\n",
        "    return text\n",
        "\n",
        "def readability(input_text):\n",
        "    '''\n",
        "    This function will use the readability library to extract the useful information from the text.\n",
        "    Document is a class in the readability library. That library is (roughly) a python\n",
        "    port of readability.js, which is a javascript library that is used by firefox to\n",
        "    extract the useful information from a webpage. We will use the Document class to\n",
        "    extract the useful information from the text.\n",
        "    '''\n",
        "\n",
        "    doc = Document(input_text)\n",
        "\n",
        "    summary = doc.summary()\n",
        "\n",
        "    # the summary is html, so we will use bs4 to extract the text\n",
        "    soup = bs4.BeautifulSoup(summary, 'html.parser')\n",
        "    summary_text = soup.get_text()\n",
        "\n",
        "    return summary_text\n",
        "\n",
        "def remove_duplicate_empty_lines(text):\n",
        "    # Replace multiple spaces with a single space\n",
        "    text = re.sub(r'\\s+', ' ', text)\n",
        "\n",
        "    # Replace multiple newlines with a single newline\n",
        "    text = re.sub(r'\\n+', '\\n', text)\n",
        "\n",
        "    # Replace multiple tabs with a single tab\n",
        "    text = re.sub(r'\\t+', '\\t', text)\n",
        "\n",
        "    return text\n",
        "\n",
        "class MySpider(scrapy.Spider):\n",
        "    '''\n",
        "    This is the spider that will be used to crawl the webpages. We give this to the scrapy crawler.\n",
        "    '''\n",
        "    name = 'myspider'\n",
        "    start_urls = None\n",
        "    clean_with_llm = False\n",
        "    results = []\n",
        "\n",
        "    def __init__(self, start_urls, clean_with_llm, *args, **kwargs):\n",
        "        super(MySpider, self).__init__(*args, **kwargs)\n",
        "        self.start_urls = start_urls\n",
        "        self.clean_with_llm = clean_with_llm\n",
        "\n",
        "    def start_requests(self):\n",
        "        for url in self.start_urls:\n",
        "            yield scrapy.Request(url, callback=self.parse)\n",
        "\n",
        "    def parse(self, response):\n",
        "        body_html = response.body.decode('utf-8')\n",
        "\n",
        "        url = response.url\n",
        "\n",
        "        soup = bs4.BeautifulSoup(body_html, 'html.parser')\n",
        "        # Check if title tag exists\n",
        "        if soup.title:\n",
        "            title = soup.title.string\n",
        "        else:\n",
        "            title = \"No Title Found\"\n",
        "        text = soup.get_text()\n",
        "        text = remove_duplicate_empty_lines(text)\n",
        "\n",
        "        if self.clean_with_llm:\n",
        "            useful_text = extract_useful_information(url, title, text, 50)\n",
        "        else:\n",
        "            useful_text = readability(body_html)\n",
        "        useful_text = remove_duplicate_empty_lines(useful_text)\n",
        "\n",
        "        self.results.append({\n",
        "            'url': url,\n",
        "            'title': title,\n",
        "            # 'text': text,\n",
        "            'text': '',\n",
        "            'useful_text': useful_text\n",
        "        })\n",
        "\n",
        "ddgs = DDGS()\n",
        "\n",
        "@crochet.run_in_reactor\n",
        "def run_spider(url_list, clean_with_llm):\n",
        "    # Define custom settings\n",
        "    custom_settings = {\n",
        "        'LOG_ENABLED': False,  # disable logging.\n",
        "        'RANDOMIZE_DOWNLOAD_DELAY': True, # random .5 - 1.5 seconds\n",
        "    }\n",
        "\n",
        "    # Create a settings object\n",
        "    settings = Settings()\n",
        "    settings.setdict(custom_settings)\n",
        "\n",
        "    # Create a CrawlerRunner with the custom settings\n",
        "    crawler = CrawlerRunner(settings)\n",
        "    deferred = crawler.crawl(MySpider, start_urls=url_list, clean_with_llm=clean_with_llm)\n",
        "    return deferred\n",
        "\n",
        "def ddgsearch(query, numresults=10, clean_with_llm=False):\n",
        "    '''\n",
        "    This function performs a search on duckduckgo and returns the results.\n",
        "    It uses the scrapy library to download the pages and extract the useful information.\n",
        "    It extracts useful information from the pages using either the readability library\n",
        "    or openai, depending on the value of clean_with_llm.\n",
        "\n",
        "    query: the query to search for\n",
        "    numresults: the number of results to return\n",
        "    clean_with_llm: if True, use openai to clean the text. If False, use readability.\n",
        "    '''\n",
        "\n",
        "    # perform the search\n",
        "    results = list(ddgs.text(query, max_results=numresults))\n",
        "\n",
        "    # get the urls\n",
        "    urls = [result['href'] for result in results]\n",
        "    urls = urls[:numresults]\n",
        "\n",
        "    print(urls)\n",
        "    MySpider.results = []\n",
        "    eventual_result = run_spider(urls, clean_with_llm)\n",
        "\n",
        "    # Wait for the specified time or until the result is ready\n",
        "    try:\n",
        "        results = eventual_result.wait(timeout=20.0)\n",
        "    except crochet.TimeoutError:\n",
        "        raise Exception(\"The scraping operation timed out.\")\n",
        "\n",
        "    return MySpider.results"
      ],
      "metadata": {
        "id": "LfMjy_NLRwuY"
      },
      "id": "LfMjy_NLRwuY",
      "execution_count": 93,
      "outputs": []
    },
    {
      "cell_type": "code",
      "source": [
        "results = ddgsearch(\"R. Thomas Deluxe Grill\", numresults=3, clean_with_llm=True)\n",
        "len(results)"
      ],
      "metadata": {
        "colab": {
          "base_uri": "https://localhost:8080/"
        },
        "id": "UzBXg6BCUhAj",
        "outputId": "5309f3a1-9066-432b-875b-9b905ff48ad3"
      },
      "id": "UzBXg6BCUhAj",
      "execution_count": 100,
      "outputs": [
        {
          "output_type": "stream",
          "name": "stderr",
          "text": [
            "WARNING:twisted:/usr/local/lib/python3.10/dist-packages/scrapy/utils/request.py:254: scrapy.exceptions.ScrapyDeprecationWarning: '2.6' is a deprecated value for the 'REQUEST_FINGERPRINTER_IMPLEMENTATION' setting.\n",
            "\n",
            "It is also the default value. In other words, it is normal to get this warning if you have not defined a value for the 'REQUEST_FINGERPRINTER_IMPLEMENTATION' setting. This is so for backward compatibility reasons, but it will change in a future version of Scrapy.\n",
            "\n",
            "See the documentation of the 'REQUEST_FINGERPRINTER_IMPLEMENTATION' setting for information on how to handle this deprecation.\n"
          ]
        },
        {
          "output_type": "stream",
          "name": "stdout",
          "text": [
            "['https://www.rthomasdeluxegrill.net/', 'https://www.rthomasdeluxegrill.net/menu', 'https://www.yelp.com/biz/r-thomas-deluxe-grill-atlanta']\n"
          ]
        },
        {
          "output_type": "execute_result",
          "data": {
            "text/plain": [
              "1"
            ]
          },
          "metadata": {},
          "execution_count": 100
        }
      ]
    },
    {
      "cell_type": "code",
      "source": [
        "for result in results:\n",
        "    print(result['useful_text'])"
      ],
      "metadata": {
        "colab": {
          "base_uri": "https://localhost:8080/"
        },
        "id": "roau5jzoUyPc",
        "outputId": "f8f1b81b-62b6-4198-dd0e-688eecdc2e2d"
      },
      "id": "roau5jzoUyPc",
      "execution_count": 101,
      "outputs": [
        {
          "output_type": "stream",
          "name": "stdout",
          "text": [
            "The R. Thomas Deluxe Grill in Atlanta, Georgia is a vegetarian and vegan-friendly restaurant that offers a diverse menu including breakfast, burgers, wings, and fresh pressed juice. The atmosphere is described as laid back with vibrant and whimsical decor, including caged parrots outside. The restaurant is open from 7:00 AM to 11:00 PM and is known for its eclectic space. Customers recommend trying the French toast, Thai Express, Spicy Fish Tacos, and the Mojo Jojo smoothie. The cost is estimated to be moderate. Overall, it's a popular spot for breakfast and brunch with quick service and an interesting atmosphere.\n"
          ]
        }
      ]
    },
    {
      "cell_type": "code",
      "source": [
        "# queries =[\n",
        "#     'Rodney Cook Sr. Park',\n",
        "#     'Atlanta Street Art Tours',\n",
        "#     'SCAD Art Sales',\n",
        "#     'R. Thomas Deluxe Grill',\n",
        "#     'Caribbean Delight',\n",
        "#     'Tech Square',\n",
        "#     'Peachtree Battle Shopping Center',\n",
        "#     'Flats at Ponce City Market',\n",
        "# ]\n",
        "\n",
        "# for query in queries:\n",
        "#     results = ddgsearch(query, numresults=5, clean_with_llm=True)\n",
        "#     for result in results:\n",
        "#         print(result['useful_text'])"
      ],
      "metadata": {
        "id": "YNuXQaDBiLvN"
      },
      "id": "YNuXQaDBiLvN",
      "execution_count": null,
      "outputs": []
    }
  ],
  "metadata": {
    "colab": {
      "provenance": []
    },
    "kernelspec": {
      "display_name": "langchain",
      "language": "python",
      "name": "langchain"
    },
    "language_info": {
      "codemirror_mode": {
        "name": "ipython",
        "version": 3
      },
      "file_extension": ".py",
      "mimetype": "text/x-python",
      "name": "python",
      "nbconvert_exporter": "python",
      "pygments_lexer": "ipython3",
      "version": "3.8.16"
    },
    "vscode": {
      "interpreter": {
        "hash": "578e1e8dce4dc6c542f1ea2d66a2d9db6ef592936dcc314004bdae386f827d38"
      }
    }
  },
  "nbformat": 4,
  "nbformat_minor": 5
}